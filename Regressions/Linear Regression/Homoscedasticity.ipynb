{
 "cells": [
  {
   "cell_type": "markdown",
   "metadata": {},
   "source": [
    "## Homoscedasticity\n",
    "The basic concern while building/training machine learning model is to obtain a bias free and accurate model across the board. Otherwise, the result from ML model is not worthy for decision making. This is what Homoscedasticity aims for. \n",
    "\n",
    "In simple term, homoscedasticity means that the errors (or mistakes) in your predictions are evenly spread out, no matter what value you’re predicting.\n",
    "\n"
   ]
  },
  {
   "cell_type": "code",
   "execution_count": null,
   "metadata": {},
   "outputs": [],
   "source": []
  }
 ],
 "metadata": {
  "language_info": {
   "name": "python"
  }
 },
 "nbformat": 4,
 "nbformat_minor": 2
}
