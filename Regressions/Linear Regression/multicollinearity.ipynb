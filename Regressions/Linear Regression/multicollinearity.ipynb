{
 "cells": [
  {
   "cell_type": "markdown",
   "metadata": {},
   "source": [
    "## Multicollinearity \n",
    "Multicollinearity occurs in regression analysis when two or more independent variables are highly correlated with each other. This correlation can inflate the standard errors of the coefficient estimates, making it difficult to assess the individual impact of each variable on the dependent variable. As a result, multicollinearity can lead to unreliable and unstable estimates, complicating interpretation and prediction.\n",
    "\n",
    "**Example of Multicollinearity**\n",
    "Imagine you are building a linear regression model to predict house prices based on various features. Two of the independent variables you include are:\n",
    "\n",
    "Square Footage - the total area of the house\n",
    "Number of Bedrooms \n",
    "Number of Bathrooms\n",
    "\n",
    "In many cases, larger houses (with more square footage) tend to have more bedrooms and bathrooms. Therefore, there is likely a strong correlation between these two variables. For example, you might find that:\n",
    "\n",
    "- A house with 2,000 square feet often has 3 to 4 bedrooms.\n",
    "- A house with 1,500 square feet may have 2 to 3 bedrooms.\n",
    "\n",
    "Because of this correlation, if both variables are included in the regression model, it can become challenging to determine the individual contribution of square footage and the number of bedrooms to the house price. It directly impacts on linear model with:\n",
    "\n",
    "\n",
    "* Inflated Standard Errors: The coefficients for square footage and the number of bedrooms may have large standard errors, making them statistically insignificant despite possibly being important predictors.\n",
    "\n",
    "* Unstable Estimates: Small changes in the data can lead to large changes in the estimated coefficients, complicating predictions and interpretations.\n",
    "\n",
    "* Interpretation Difficulty: It becomes challenging to say whether it’s the size of the house or the number of bedrooms driving the price up.\n",
    "\n",
    "Consequently, this can result in misleading conclusions about the relationships among predictors and the outcome."
   ]
  },
  {
   "cell_type": "markdown",
   "metadata": {},
   "source": [
    "## Variance Inflation Factor\n",
    "To diagnose multicollinearity, the Variance Inflation Factor (VIF) is commonly used. VIF quantifies how much the variance of a regression coefficient increases due to multicollinearity. High VIF values indicate problematic levels of correlation between independent variables, making it difficult to isolate their individual contributions.\n",
    "\n",
    "VIF helps us decide whether to remove or combine variables for clearer interpretation. By addressing high VIF values, we can enhance the model's interpretability and performance. Strategies to mitigate multicollinearity include removing or combining correlated variables, leading to a more parsimonious model that is easier to interpret and more reliable in making predictions.\n",
    "\n",
    "Additionally, understanding multicollinearity can guide the choice of modeling techniques as well. If multicollinearity is detected, Instead of Linear Regression, regularization methods like Ridge or Lasso regression may be considered. These techniques help mitigate the effects of correlated predictors, leading to more stable and interpretable models."
   ]
  },
  {
   "cell_type": "markdown",
   "metadata": {},
   "source": [
    "**How VIF is calculated?**\n",
    "\n",
    "1. Run a regression for each independent variable $X_i$ as a dependent variable, using the other independent variables as predictors.\n",
    "\n",
    "2. Obtain the R² value from each regression.\n",
    "\n",
    "3. Calculate VIF using the formula:\n",
    "\n",
    "    $VIF(X_i) = \\frac{1}{1-R_i^2}$\n",
    "\n",
    "    Where, $R_i^2$  is the R-squared value from the regression of $X_i$ on all other independent variables.\n",
    "\n",
    "**Interpretation of VIF Values:**\n",
    "* VIF = 1: No correlation between the independent variable and others.\n",
    "* 1 < VIF < 5: Moderate correlation, generally acceptable.\n",
    "* VIF ≥ 5 or 10: High correlation, indicating a potential multicollinearity problem. The threshold can vary, with some researchers suggesting different cutoffs.\n",
    "\n",
    "\n",
    "**Addressing high VIF values**\n",
    "1. Remove or combine correlated predictors.\n",
    "2. Use techniques like principal component analysis (PCA) to reduce dimensionality.\n",
    "Consider regularization methods like Ridge or Lasso regression.\n",
    "3. Understanding and managing VIF helps improve the reliability of your regression model's estimates and interpretations."
   ]
  },
  {
   "cell_type": "markdown",
   "metadata": {},
   "source": [
    "Let's illustrate the concept through the use of toy dataset."
   ]
  },
  {
   "cell_type": "code",
   "execution_count": 2,
   "metadata": {},
   "outputs": [],
   "source": [
    "import numpy as np\n",
    "import pandas as pd\n",
    "import statsmodels.api as sm\n",
    "import matplotlib.pyplot as plt\n",
    "import seaborn as sns\n",
    "from scipy import stats\n",
    "\n",
    "# Set random seed for reproducibility\n",
    "np.random.seed(42)"
   ]
  },
  {
   "cell_type": "code",
   "execution_count": 5,
   "metadata": {},
   "outputs": [],
   "source": [
    "# Generate a toy dataset\n",
    "n = 100\n",
    "X1 = np.random.normal(100, 10, n)  # Variable 1: e.g., Square Footage\n",
    "X2 = X1 + np.random.normal(0, 5, n)  # Variable 2: e.g., Number of Bedrooms (highly correlated with X1)\n",
    "X3 = np.random.normal(50, 5, n)     # Variable 3: e.g., Age of the house (less correlated)\n",
    "# Dependent variable\n",
    "y = 50000 + 300 * X1 + 200 * X3 + np.random.normal(0, 10000, n)  # Target: House Price\n",
    "\n",
    "# Create DataFrame\n",
    "data = pd.DataFrame({'X1': X1, 'X2': X2, 'X3': X3, 'y': y})"
   ]
  },
  {
   "cell_type": "code",
   "execution_count": 17,
   "metadata": {},
   "outputs": [
    {
     "data": {
      "image/png": "[encoded data removed]",
      "text/plain": [
       "<Figure size 640x480 with 2 Axes>"
      ]
     },
     "metadata": {},
     "output_type": "display_data"
    }
   ],
   "source": [
    "# Visualize the correlation\n",
    "sns.heatmap(data.corr(), annot=True, cmap='coolwarm')\n",
    "plt.title('Correlation Matrix')\n",
    "plt.show()"
   ]
  },
  {
   "cell_type": "markdown",
   "metadata": {},
   "source": [
    "The above hitmap shows highest correlation between X1 and X2 variable confirming the presence of multicollinearity."
   ]
  },
  {
   "cell_type": "code",
   "execution_count": 9,
   "metadata": {},
   "outputs": [
    {
     "name": "stdout",
     "output_type": "stream",
     "text": [
      "                            OLS Regression Results                            \n",
      "==============================================================================\n",
      "Dep. Variable:                      y   R-squared:                       0.083\n",
      "Model:                            OLS   Adj. R-squared:                  0.054\n",
      "Method:                 Least Squares   F-statistic:                     2.878\n",
      "Date:                Mon, 30 Sep 2024   Prob (F-statistic):             0.0400\n",
      "Time:                        12:54:08   Log-Likelihood:                -1062.7\n",
      "No. Observations:                 100   AIC:                             2133.\n",
      "Df Residuals:                      96   BIC:                             2144.\n",
      "Df Model:                           3                                         \n",
      "Covariance Type:            nonrobust                                         \n",
      "==============================================================================\n",
      "                 coef    std err          t      P>|t|      [0.025      0.975]\n",
      "------------------------------------------------------------------------------\n",
      "const        5.18e+04   1.38e+04      3.743      0.000    2.43e+04    7.93e+04\n",
      "X1           107.5745    265.881      0.405      0.687    -420.195     635.344\n",
      "X2           146.5766    257.613      0.569      0.571    -364.781     657.934\n",
      "X3           228.0219    193.843      1.176      0.242    -156.753     612.797\n",
      "==============================================================================\n",
      "Omnibus:                        1.755   Durbin-Watson:                   1.816\n",
      "Prob(Omnibus):                  0.416   Jarque-Bera (JB):                1.308\n",
      "Skew:                           0.268   Prob(JB):                        0.520\n",
      "Kurtosis:                       3.165   Cond. No.                     2.06e+03\n",
      "==============================================================================\n",
      "\n",
      "Notes:\n",
      "[1] Standard Errors assume that the covariance matrix of the errors is correctly specified.\n",
      "[2] The condition number is large, 2.06e+03. This might indicate that there are\n",
      "strong multicollinearity or other numerical problems.\n"
     ]
    }
   ],
   "source": [
    "# Fit linear regression model\n",
    "X = data[['X1', 'X2', 'X3']]\n",
    "X_with_const = sm.add_constant(X)  # Add constant term for intercept\n",
    "model = sm.OLS(data['y'], X_with_const).fit()\n",
    "\n",
    "# Print model summary\n",
    "print(model.summary())\n"
   ]
  },
  {
   "cell_type": "code",
   "execution_count": 12,
   "metadata": {},
   "outputs": [
    {
     "name": "stdout",
     "output_type": "stream",
     "text": [
      "  Feature         VIF\n",
      "0   const  184.849331\n",
      "1      X1    8.134389\n",
      "2      X2    8.108936\n",
      "3      X3    1.014891\n"
     ]
    }
   ],
   "source": [
    "# import vif from statsmodels\n",
    "from statsmodels.stats.outliers_influence import variance_inflation_factor\n",
    "\n",
    "# Calculate VIF for each feature\n",
    "def calculate_vif(X):\n",
    "    vif_data = pd.DataFrame()\n",
    "    vif_data[\"Feature\"] = X.columns\n",
    "    vif_data[\"VIF\"] = [variance_inflation_factor(X.values, i) for i in range(X.shape[1])]\n",
    "    return vif_data\n",
    "\n",
    "vif_result = calculate_vif(X_with_const)\n",
    "print(vif_result)"
   ]
  },
  {
   "cell_type": "markdown",
   "metadata": {},
   "source": [
    "This confirms the multicollinearity amongst `X1` and `X2`. As discussed above, we can decide on one among many options:\n",
    "1. Remove one of the variables.\n",
    "2. Combine both variables.\n",
    "3. Use Regularized models like Lasso or Ridge Regression.\n",
    "4. Use dimensionality reduction technique like PCA.\n"
   ]
  }
 ],
 "metadata": {
  "kernelspec": {
   "display_name": ".venv",
   "language": "python",
   "name": "python3"
  },
  "language_info": {
   "codemirror_mode": {
    "name": "ipython",
    "version": 3
   },
   "file_extension": ".py",
   "mimetype": "text/x-python",
   "name": "python",
   "nbconvert_exporter": "python",
   "pygments_lexer": "ipython3",
   "version": "3.12.3"
  }
 },
 "nbformat": 4,
 "nbformat_minor": 2
}
