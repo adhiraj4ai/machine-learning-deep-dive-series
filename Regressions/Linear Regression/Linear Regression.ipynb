{
 "cells": [
  {
   "metadata": {},
   "cell_type": "markdown",
   "source": [
    "# Linear Regression\n",
    "\n",
    "Linear regression is a fundamental statistical and machine learning technique used to model the relationship between variables. It's a simple yet powerful algorithm widely adopted in data science and predictive analytics. Its foundation for statistical learning and machine learning. It models the relationship between one or more independent variables (predictors) and a dependent variable (response) by fitting a linear equation to observed data.\n",
    "\n",
    "Linear regression aims to model the relationship between variables by assuming that the dependent variable  Y  is a linear combination of the independent variables  $x_1, x_2, \\dots ,x_n$ , plus some error term $\\epsilon$ .\n",
    "\n",
    "The formula for simple linear regression (one predictor) is:\n",
    "\n",
    "$$\n",
    "y = \\beta_0 + \\beta_1 x + \\epsilon\n",
    "$$\n",
    "\n",
    "Where:\n",
    "* $y$ is the dependent variable (what you’re trying to predict).\n",
    "* $x$ is the independent variable (the predictor).\n",
    "* $\\beta_0$ is the intercept (the value of $y$ when $x = 0$).\n",
    "* $\\beta_1$ is the slope of the line (the change in $y$ for a one-unit change in $x$ ).\n",
    "* $\\epsilon$ is the error term (the difference between the observed value of $y$ and the value predicted by the model)."
   ],
   "id": "bd818ba5a851ab5c"
  },
  {
   "cell_type": "code",
   "execution_count": null,
   "id": "initial_id",
   "metadata": {
    "collapsed": true
   },
   "outputs": [],
   "source": ""
  }
 ],
 "metadata": {
  "kernelspec": {
   "display_name": "Python 3",
   "language": "python",
   "name": "python3"
  },
  "language_info": {
   "codemirror_mode": {
    "name": "ipython",
    "version": 2
   },
   "file_extension": ".py",
   "mimetype": "text/x-python",
   "name": "python",
   "nbconvert_exporter": "python",
   "pygments_lexer": "ipython2",
   "version": "2.7.6"
  }
 },
 "nbformat": 4,
 "nbformat_minor": 5
}
